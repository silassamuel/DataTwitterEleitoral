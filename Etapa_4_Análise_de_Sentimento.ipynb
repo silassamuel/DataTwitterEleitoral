{
  "nbformat": 4,
  "nbformat_minor": 0,
  "metadata": {
    "colab": {
      "name": "Etapa 4 - Análise de Sentimento.ipynb",
      "provenance": [],
      "authorship_tag": "ABX9TyMbe6EqWOTgg6mxBB+IjCbO",
      "include_colab_link": true
    },
    "kernelspec": {
      "name": "python3",
      "display_name": "Python 3"
    },
    "language_info": {
      "name": "python"
    }
  },
  "cells": [
    {
      "cell_type": "markdown",
      "metadata": {
        "id": "view-in-github",
        "colab_type": "text"
      },
      "source": [
        "<a href=\"https://colab.research.google.com/github/silassamuel/DataTwitterEleitoral/blob/main/Etapa_4_An%C3%A1lise_de_Sentimento.ipynb\" target=\"_parent\"><img src=\"https://colab.research.google.com/assets/colab-badge.svg\" alt=\"Open In Colab\"/></a>"
      ]
    },
    {
      "cell_type": "code",
      "source": [
        "pip install vaderSentiment"
      ],
      "metadata": {
        "colab": {
          "base_uri": "https://localhost:8080/"
        },
        "id": "15wHLsI0lq7Y",
        "outputId": "e5861c38-c27b-4988-e1ee-6a19fa674ce6"
      },
      "execution_count": 22,
      "outputs": [
        {
          "output_type": "stream",
          "name": "stdout",
          "text": [
            "Looking in indexes: https://pypi.org/simple, https://us-python.pkg.dev/colab-wheels/public/simple/\n",
            "Requirement already satisfied: vaderSentiment in /usr/local/lib/python3.7/dist-packages (3.3.2)\n",
            "Requirement already satisfied: requests in /usr/local/lib/python3.7/dist-packages (from vaderSentiment) (2.23.0)\n",
            "Requirement already satisfied: chardet<4,>=3.0.2 in /usr/local/lib/python3.7/dist-packages (from requests->vaderSentiment) (3.0.4)\n",
            "Requirement already satisfied: urllib3!=1.25.0,!=1.25.1,<1.26,>=1.21.1 in /usr/local/lib/python3.7/dist-packages (from requests->vaderSentiment) (1.24.3)\n",
            "Requirement already satisfied: idna<3,>=2.5 in /usr/local/lib/python3.7/dist-packages (from requests->vaderSentiment) (2.10)\n",
            "Requirement already satisfied: certifi>=2017.4.17 in /usr/local/lib/python3.7/dist-packages (from requests->vaderSentiment) (2022.6.15)\n"
          ]
        }
      ]
    },
    {
      "cell_type": "code",
      "execution_count": 23,
      "metadata": {
        "id": "dlMzLJPnmJve"
      },
      "outputs": [],
      "source": [
        "import pandas as pd\n",
        "import re\n",
        "import nltk\n",
        "from nltk.sentiment.vader import SentimentIntensityAnalyzer as SIA \n",
        "from vaderSentiment.vaderSentiment import SentimentIntensityAnalyzer"
      ]
    },
    {
      "cell_type": "code",
      "source": [
        "dataframe_sentimento = pd.read_csv('dataframe_final_candidatos_pronto_para_sentimento.csv')"
      ],
      "metadata": {
        "id": "98X12ln_lGAd"
      },
      "execution_count": 24,
      "outputs": []
    },
    {
      "cell_type": "code",
      "source": [
        "dataframe_sentimento.head()"
      ],
      "metadata": {
        "colab": {
          "base_uri": "https://localhost:8080/",
          "height": 337
        },
        "id": "KHEQkh9glhbm",
        "outputId": "6ee00761-3fde-417f-a450-e64f4601409f"
      },
      "execution_count": 25,
      "outputs": [
        {
          "output_type": "execute_result",
          "data": {
            "text/plain": [
              "                   Data_Hora              Idtweet  \\\n",
              "0  2022-07-31 13:12:41+00:00  1553730368204832769   \n",
              "1  2022-07-31 13:12:41+00:00  1553730367131205638   \n",
              "2  2022-07-31 13:12:40+00:00  1553730365130416128   \n",
              "3  2022-07-31 13:12:37+00:00  1553730353722019841   \n",
              "4  2022-07-31 13:12:37+00:00  1553730350572048389   \n",
              "\n",
              "                                               tweet Candidato  \\\n",
              "0          @DiegoBairrosJba Só quando o Lula morrer.      Lula   \n",
              "1  @PauloEduardoMED @COllyver1 @Luzamag @alexkta ...      Lula   \n",
              "2  @UOLNoticias @LulaOficial Vai vendo Brasil a d...      Lula   \n",
              "3  @pae031979 @ricardoalencar_ @pingodocafe Cara ...      Lula   \n",
              "4  @ptbrasil @LulaOficial Ladrão,  não tem eleito...      Lula   \n",
              "\n",
              "                                         tweet_limpo  \n",
              "0                           só quando o lula morrer.  \n",
              "1       lula é cacheiro, bandido, analfabeto.. te...  \n",
              "2    vai vendo brasil a destruição, calheiros de ...  \n",
              "3     cara vc conseguiu colocar flamengo e lula n...  \n",
              "4    ladrão,  não tem eleitor.  .....  tem cúmplice.  "
            ],
            "text/html": [
              "\n",
              "  <div id=\"df-a590aa89-e1e8-42c2-8eec-dc2566add671\">\n",
              "    <div class=\"colab-df-container\">\n",
              "      <div>\n",
              "<style scoped>\n",
              "    .dataframe tbody tr th:only-of-type {\n",
              "        vertical-align: middle;\n",
              "    }\n",
              "\n",
              "    .dataframe tbody tr th {\n",
              "        vertical-align: top;\n",
              "    }\n",
              "\n",
              "    .dataframe thead th {\n",
              "        text-align: right;\n",
              "    }\n",
              "</style>\n",
              "<table border=\"1\" class=\"dataframe\">\n",
              "  <thead>\n",
              "    <tr style=\"text-align: right;\">\n",
              "      <th></th>\n",
              "      <th>Data_Hora</th>\n",
              "      <th>Idtweet</th>\n",
              "      <th>tweet</th>\n",
              "      <th>Candidato</th>\n",
              "      <th>tweet_limpo</th>\n",
              "    </tr>\n",
              "  </thead>\n",
              "  <tbody>\n",
              "    <tr>\n",
              "      <th>0</th>\n",
              "      <td>2022-07-31 13:12:41+00:00</td>\n",
              "      <td>1553730368204832769</td>\n",
              "      <td>@DiegoBairrosJba Só quando o Lula morrer.</td>\n",
              "      <td>Lula</td>\n",
              "      <td>só quando o lula morrer.</td>\n",
              "    </tr>\n",
              "    <tr>\n",
              "      <th>1</th>\n",
              "      <td>2022-07-31 13:12:41+00:00</td>\n",
              "      <td>1553730367131205638</td>\n",
              "      <td>@PauloEduardoMED @COllyver1 @Luzamag @alexkta ...</td>\n",
              "      <td>Lula</td>\n",
              "      <td>lula é cacheiro, bandido, analfabeto.. te...</td>\n",
              "    </tr>\n",
              "    <tr>\n",
              "      <th>2</th>\n",
              "      <td>2022-07-31 13:12:40+00:00</td>\n",
              "      <td>1553730365130416128</td>\n",
              "      <td>@UOLNoticias @LulaOficial Vai vendo Brasil a d...</td>\n",
              "      <td>Lula</td>\n",
              "      <td>vai vendo brasil a destruição, calheiros de ...</td>\n",
              "    </tr>\n",
              "    <tr>\n",
              "      <th>3</th>\n",
              "      <td>2022-07-31 13:12:37+00:00</td>\n",
              "      <td>1553730353722019841</td>\n",
              "      <td>@pae031979 @ricardoalencar_ @pingodocafe Cara ...</td>\n",
              "      <td>Lula</td>\n",
              "      <td>cara vc conseguiu colocar flamengo e lula n...</td>\n",
              "    </tr>\n",
              "    <tr>\n",
              "      <th>4</th>\n",
              "      <td>2022-07-31 13:12:37+00:00</td>\n",
              "      <td>1553730350572048389</td>\n",
              "      <td>@ptbrasil @LulaOficial Ladrão,  não tem eleito...</td>\n",
              "      <td>Lula</td>\n",
              "      <td>ladrão,  não tem eleitor.  .....  tem cúmplice.</td>\n",
              "    </tr>\n",
              "  </tbody>\n",
              "</table>\n",
              "</div>\n",
              "      <button class=\"colab-df-convert\" onclick=\"convertToInteractive('df-a590aa89-e1e8-42c2-8eec-dc2566add671')\"\n",
              "              title=\"Convert this dataframe to an interactive table.\"\n",
              "              style=\"display:none;\">\n",
              "        \n",
              "  <svg xmlns=\"http://www.w3.org/2000/svg\" height=\"24px\"viewBox=\"0 0 24 24\"\n",
              "       width=\"24px\">\n",
              "    <path d=\"M0 0h24v24H0V0z\" fill=\"none\"/>\n",
              "    <path d=\"M18.56 5.44l.94 2.06.94-2.06 2.06-.94-2.06-.94-.94-2.06-.94 2.06-2.06.94zm-11 1L8.5 8.5l.94-2.06 2.06-.94-2.06-.94L8.5 2.5l-.94 2.06-2.06.94zm10 10l.94 2.06.94-2.06 2.06-.94-2.06-.94-.94-2.06-.94 2.06-2.06.94z\"/><path d=\"M17.41 7.96l-1.37-1.37c-.4-.4-.92-.59-1.43-.59-.52 0-1.04.2-1.43.59L10.3 9.45l-7.72 7.72c-.78.78-.78 2.05 0 2.83L4 21.41c.39.39.9.59 1.41.59.51 0 1.02-.2 1.41-.59l7.78-7.78 2.81-2.81c.8-.78.8-2.07 0-2.86zM5.41 20L4 18.59l7.72-7.72 1.47 1.35L5.41 20z\"/>\n",
              "  </svg>\n",
              "      </button>\n",
              "      \n",
              "  <style>\n",
              "    .colab-df-container {\n",
              "      display:flex;\n",
              "      flex-wrap:wrap;\n",
              "      gap: 12px;\n",
              "    }\n",
              "\n",
              "    .colab-df-convert {\n",
              "      background-color: #E8F0FE;\n",
              "      border: none;\n",
              "      border-radius: 50%;\n",
              "      cursor: pointer;\n",
              "      display: none;\n",
              "      fill: #1967D2;\n",
              "      height: 32px;\n",
              "      padding: 0 0 0 0;\n",
              "      width: 32px;\n",
              "    }\n",
              "\n",
              "    .colab-df-convert:hover {\n",
              "      background-color: #E2EBFA;\n",
              "      box-shadow: 0px 1px 2px rgba(60, 64, 67, 0.3), 0px 1px 3px 1px rgba(60, 64, 67, 0.15);\n",
              "      fill: #174EA6;\n",
              "    }\n",
              "\n",
              "    [theme=dark] .colab-df-convert {\n",
              "      background-color: #3B4455;\n",
              "      fill: #D2E3FC;\n",
              "    }\n",
              "\n",
              "    [theme=dark] .colab-df-convert:hover {\n",
              "      background-color: #434B5C;\n",
              "      box-shadow: 0px 1px 3px 1px rgba(0, 0, 0, 0.15);\n",
              "      filter: drop-shadow(0px 1px 2px rgba(0, 0, 0, 0.3));\n",
              "      fill: #FFFFFF;\n",
              "    }\n",
              "  </style>\n",
              "\n",
              "      <script>\n",
              "        const buttonEl =\n",
              "          document.querySelector('#df-a590aa89-e1e8-42c2-8eec-dc2566add671 button.colab-df-convert');\n",
              "        buttonEl.style.display =\n",
              "          google.colab.kernel.accessAllowed ? 'block' : 'none';\n",
              "\n",
              "        async function convertToInteractive(key) {\n",
              "          const element = document.querySelector('#df-a590aa89-e1e8-42c2-8eec-dc2566add671');\n",
              "          const dataTable =\n",
              "            await google.colab.kernel.invokeFunction('convertToInteractive',\n",
              "                                                     [key], {});\n",
              "          if (!dataTable) return;\n",
              "\n",
              "          const docLinkHtml = 'Like what you see? Visit the ' +\n",
              "            '<a target=\"_blank\" href=https://colab.research.google.com/notebooks/data_table.ipynb>data table notebook</a>'\n",
              "            + ' to learn more about interactive tables.';\n",
              "          element.innerHTML = '';\n",
              "          dataTable['output_type'] = 'display_data';\n",
              "          await google.colab.output.renderOutput(dataTable, element);\n",
              "          const docLink = document.createElement('div');\n",
              "          docLink.innerHTML = docLinkHtml;\n",
              "          element.appendChild(docLink);\n",
              "        }\n",
              "      </script>\n",
              "    </div>\n",
              "  </div>\n",
              "  "
            ]
          },
          "metadata": {},
          "execution_count": 25
        }
      ]
    },
    {
      "cell_type": "code",
      "source": [
        "analisador_de_texto = SentimentIntensityAnalyzer()"
      ],
      "metadata": {
        "id": "JikczSahlk62"
      },
      "execution_count": 26,
      "outputs": []
    },
    {
      "cell_type": "code",
      "source": [
        "dataframe_sentimento['sentimento'] = dataframe_sentimento['tweet_limpo'].apply(lambda i: analisador_de_texto.polarity_scores(' '.join(re.findall(r'\\w+', i.lower()))))"
      ],
      "metadata": {
        "id": "4DRyqv7xln8k"
      },
      "execution_count": 27,
      "outputs": []
    },
    {
      "cell_type": "code",
      "source": [
        "dataframe_sentimento.head()"
      ],
      "metadata": {
        "colab": {
          "base_uri": "https://localhost:8080/",
          "height": 424
        },
        "id": "6q6ngpxdoeNz",
        "outputId": "4b43294f-d918-42f5-83b9-0bfa4aec50dc"
      },
      "execution_count": 28,
      "outputs": [
        {
          "output_type": "execute_result",
          "data": {
            "text/plain": [
              "                   Data_Hora              Idtweet  \\\n",
              "0  2022-07-31 13:12:41+00:00  1553730368204832769   \n",
              "1  2022-07-31 13:12:41+00:00  1553730367131205638   \n",
              "2  2022-07-31 13:12:40+00:00  1553730365130416128   \n",
              "3  2022-07-31 13:12:37+00:00  1553730353722019841   \n",
              "4  2022-07-31 13:12:37+00:00  1553730350572048389   \n",
              "\n",
              "                                               tweet Candidato  \\\n",
              "0          @DiegoBairrosJba Só quando o Lula morrer.      Lula   \n",
              "1  @PauloEduardoMED @COllyver1 @Luzamag @alexkta ...      Lula   \n",
              "2  @UOLNoticias @LulaOficial Vai vendo Brasil a d...      Lula   \n",
              "3  @pae031979 @ricardoalencar_ @pingodocafe Cara ...      Lula   \n",
              "4  @ptbrasil @LulaOficial Ladrão,  não tem eleito...      Lula   \n",
              "\n",
              "                                         tweet_limpo  \\\n",
              "0                           só quando o lula morrer.   \n",
              "1       lula é cacheiro, bandido, analfabeto.. te...   \n",
              "2    vai vendo brasil a destruição, calheiros de ...   \n",
              "3     cara vc conseguiu colocar flamengo e lula n...   \n",
              "4    ladrão,  não tem eleitor.  .....  tem cúmplice.   \n",
              "\n",
              "                                          sentimento  \n",
              "0  {'neg': 0.0, 'neu': 1.0, 'pos': 0.0, 'compound...  \n",
              "1  {'neg': 0.0, 'neu': 1.0, 'pos': 0.0, 'compound...  \n",
              "2  {'neg': 0.136, 'neu': 0.864, 'pos': 0.0, 'comp...  \n",
              "3  {'neg': 0.128, 'neu': 0.872, 'pos': 0.0, 'comp...  \n",
              "4  {'neg': 0.0, 'neu': 1.0, 'pos': 0.0, 'compound...  "
            ],
            "text/html": [
              "\n",
              "  <div id=\"df-89a06c1e-256b-42d7-9a28-7018ced5d2c8\">\n",
              "    <div class=\"colab-df-container\">\n",
              "      <div>\n",
              "<style scoped>\n",
              "    .dataframe tbody tr th:only-of-type {\n",
              "        vertical-align: middle;\n",
              "    }\n",
              "\n",
              "    .dataframe tbody tr th {\n",
              "        vertical-align: top;\n",
              "    }\n",
              "\n",
              "    .dataframe thead th {\n",
              "        text-align: right;\n",
              "    }\n",
              "</style>\n",
              "<table border=\"1\" class=\"dataframe\">\n",
              "  <thead>\n",
              "    <tr style=\"text-align: right;\">\n",
              "      <th></th>\n",
              "      <th>Data_Hora</th>\n",
              "      <th>Idtweet</th>\n",
              "      <th>tweet</th>\n",
              "      <th>Candidato</th>\n",
              "      <th>tweet_limpo</th>\n",
              "      <th>sentimento</th>\n",
              "    </tr>\n",
              "  </thead>\n",
              "  <tbody>\n",
              "    <tr>\n",
              "      <th>0</th>\n",
              "      <td>2022-07-31 13:12:41+00:00</td>\n",
              "      <td>1553730368204832769</td>\n",
              "      <td>@DiegoBairrosJba Só quando o Lula morrer.</td>\n",
              "      <td>Lula</td>\n",
              "      <td>só quando o lula morrer.</td>\n",
              "      <td>{'neg': 0.0, 'neu': 1.0, 'pos': 0.0, 'compound...</td>\n",
              "    </tr>\n",
              "    <tr>\n",
              "      <th>1</th>\n",
              "      <td>2022-07-31 13:12:41+00:00</td>\n",
              "      <td>1553730367131205638</td>\n",
              "      <td>@PauloEduardoMED @COllyver1 @Luzamag @alexkta ...</td>\n",
              "      <td>Lula</td>\n",
              "      <td>lula é cacheiro, bandido, analfabeto.. te...</td>\n",
              "      <td>{'neg': 0.0, 'neu': 1.0, 'pos': 0.0, 'compound...</td>\n",
              "    </tr>\n",
              "    <tr>\n",
              "      <th>2</th>\n",
              "      <td>2022-07-31 13:12:40+00:00</td>\n",
              "      <td>1553730365130416128</td>\n",
              "      <td>@UOLNoticias @LulaOficial Vai vendo Brasil a d...</td>\n",
              "      <td>Lula</td>\n",
              "      <td>vai vendo brasil a destruição, calheiros de ...</td>\n",
              "      <td>{'neg': 0.136, 'neu': 0.864, 'pos': 0.0, 'comp...</td>\n",
              "    </tr>\n",
              "    <tr>\n",
              "      <th>3</th>\n",
              "      <td>2022-07-31 13:12:37+00:00</td>\n",
              "      <td>1553730353722019841</td>\n",
              "      <td>@pae031979 @ricardoalencar_ @pingodocafe Cara ...</td>\n",
              "      <td>Lula</td>\n",
              "      <td>cara vc conseguiu colocar flamengo e lula n...</td>\n",
              "      <td>{'neg': 0.128, 'neu': 0.872, 'pos': 0.0, 'comp...</td>\n",
              "    </tr>\n",
              "    <tr>\n",
              "      <th>4</th>\n",
              "      <td>2022-07-31 13:12:37+00:00</td>\n",
              "      <td>1553730350572048389</td>\n",
              "      <td>@ptbrasil @LulaOficial Ladrão,  não tem eleito...</td>\n",
              "      <td>Lula</td>\n",
              "      <td>ladrão,  não tem eleitor.  .....  tem cúmplice.</td>\n",
              "      <td>{'neg': 0.0, 'neu': 1.0, 'pos': 0.0, 'compound...</td>\n",
              "    </tr>\n",
              "  </tbody>\n",
              "</table>\n",
              "</div>\n",
              "      <button class=\"colab-df-convert\" onclick=\"convertToInteractive('df-89a06c1e-256b-42d7-9a28-7018ced5d2c8')\"\n",
              "              title=\"Convert this dataframe to an interactive table.\"\n",
              "              style=\"display:none;\">\n",
              "        \n",
              "  <svg xmlns=\"http://www.w3.org/2000/svg\" height=\"24px\"viewBox=\"0 0 24 24\"\n",
              "       width=\"24px\">\n",
              "    <path d=\"M0 0h24v24H0V0z\" fill=\"none\"/>\n",
              "    <path d=\"M18.56 5.44l.94 2.06.94-2.06 2.06-.94-2.06-.94-.94-2.06-.94 2.06-2.06.94zm-11 1L8.5 8.5l.94-2.06 2.06-.94-2.06-.94L8.5 2.5l-.94 2.06-2.06.94zm10 10l.94 2.06.94-2.06 2.06-.94-2.06-.94-.94-2.06-.94 2.06-2.06.94z\"/><path d=\"M17.41 7.96l-1.37-1.37c-.4-.4-.92-.59-1.43-.59-.52 0-1.04.2-1.43.59L10.3 9.45l-7.72 7.72c-.78.78-.78 2.05 0 2.83L4 21.41c.39.39.9.59 1.41.59.51 0 1.02-.2 1.41-.59l7.78-7.78 2.81-2.81c.8-.78.8-2.07 0-2.86zM5.41 20L4 18.59l7.72-7.72 1.47 1.35L5.41 20z\"/>\n",
              "  </svg>\n",
              "      </button>\n",
              "      \n",
              "  <style>\n",
              "    .colab-df-container {\n",
              "      display:flex;\n",
              "      flex-wrap:wrap;\n",
              "      gap: 12px;\n",
              "    }\n",
              "\n",
              "    .colab-df-convert {\n",
              "      background-color: #E8F0FE;\n",
              "      border: none;\n",
              "      border-radius: 50%;\n",
              "      cursor: pointer;\n",
              "      display: none;\n",
              "      fill: #1967D2;\n",
              "      height: 32px;\n",
              "      padding: 0 0 0 0;\n",
              "      width: 32px;\n",
              "    }\n",
              "\n",
              "    .colab-df-convert:hover {\n",
              "      background-color: #E2EBFA;\n",
              "      box-shadow: 0px 1px 2px rgba(60, 64, 67, 0.3), 0px 1px 3px 1px rgba(60, 64, 67, 0.15);\n",
              "      fill: #174EA6;\n",
              "    }\n",
              "\n",
              "    [theme=dark] .colab-df-convert {\n",
              "      background-color: #3B4455;\n",
              "      fill: #D2E3FC;\n",
              "    }\n",
              "\n",
              "    [theme=dark] .colab-df-convert:hover {\n",
              "      background-color: #434B5C;\n",
              "      box-shadow: 0px 1px 3px 1px rgba(0, 0, 0, 0.15);\n",
              "      filter: drop-shadow(0px 1px 2px rgba(0, 0, 0, 0.3));\n",
              "      fill: #FFFFFF;\n",
              "    }\n",
              "  </style>\n",
              "\n",
              "      <script>\n",
              "        const buttonEl =\n",
              "          document.querySelector('#df-89a06c1e-256b-42d7-9a28-7018ced5d2c8 button.colab-df-convert');\n",
              "        buttonEl.style.display =\n",
              "          google.colab.kernel.accessAllowed ? 'block' : 'none';\n",
              "\n",
              "        async function convertToInteractive(key) {\n",
              "          const element = document.querySelector('#df-89a06c1e-256b-42d7-9a28-7018ced5d2c8');\n",
              "          const dataTable =\n",
              "            await google.colab.kernel.invokeFunction('convertToInteractive',\n",
              "                                                     [key], {});\n",
              "          if (!dataTable) return;\n",
              "\n",
              "          const docLinkHtml = 'Like what you see? Visit the ' +\n",
              "            '<a target=\"_blank\" href=https://colab.research.google.com/notebooks/data_table.ipynb>data table notebook</a>'\n",
              "            + ' to learn more about interactive tables.';\n",
              "          element.innerHTML = '';\n",
              "          dataTable['output_type'] = 'display_data';\n",
              "          await google.colab.output.renderOutput(dataTable, element);\n",
              "          const docLink = document.createElement('div');\n",
              "          docLink.innerHTML = docLinkHtml;\n",
              "          element.appendChild(docLink);\n",
              "        }\n",
              "      </script>\n",
              "    </div>\n",
              "  </div>\n",
              "  "
            ]
          },
          "metadata": {},
          "execution_count": 28
        }
      ]
    },
    {
      "cell_type": "code",
      "source": [
        "dataframe_sentimento['sentimento']"
      ],
      "metadata": {
        "colab": {
          "base_uri": "https://localhost:8080/"
        },
        "id": "TmSdEGVMtd9q",
        "outputId": "3a118a9f-68f2-42d4-a0db-d76be6b4306b"
      },
      "execution_count": 29,
      "outputs": [
        {
          "output_type": "execute_result",
          "data": {
            "text/plain": [
              "0      {'neg': 0.0, 'neu': 1.0, 'pos': 0.0, 'compound...\n",
              "1      {'neg': 0.0, 'neu': 1.0, 'pos': 0.0, 'compound...\n",
              "2      {'neg': 0.136, 'neu': 0.864, 'pos': 0.0, 'comp...\n",
              "3      {'neg': 0.128, 'neu': 0.872, 'pos': 0.0, 'comp...\n",
              "4      {'neg': 0.0, 'neu': 1.0, 'pos': 0.0, 'compound...\n",
              "                             ...                        \n",
              "148    {'neg': 0.655, 'neu': 0.345, 'pos': 0.0, 'comp...\n",
              "149    {'neg': 0.0, 'neu': 1.0, 'pos': 0.0, 'compound...\n",
              "150    {'neg': 0.0, 'neu': 1.0, 'pos': 0.0, 'compound...\n",
              "151    {'neg': 0.0, 'neu': 0.526, 'pos': 0.474, 'comp...\n",
              "152    {'neg': 0.0, 'neu': 1.0, 'pos': 0.0, 'compound...\n",
              "Name: sentimento, Length: 153, dtype: object"
            ]
          },
          "metadata": {},
          "execution_count": 29
        }
      ]
    },
    {
      "cell_type": "code",
      "source": [
        ""
      ],
      "metadata": {
        "id": "Fg-V1hi2uKoI"
      },
      "execution_count": null,
      "outputs": []
    }
  ]
}