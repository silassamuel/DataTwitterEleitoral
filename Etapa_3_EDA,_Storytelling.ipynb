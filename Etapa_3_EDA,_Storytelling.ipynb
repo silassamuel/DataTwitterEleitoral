{
  "nbformat": 4,
  "nbformat_minor": 0,
  "metadata": {
    "colab": {
      "name": "Etapa 3 - EDA, Storytelling.ipynb",
      "provenance": [],
      "authorship_tag": "ABX9TyObrdXj82rF2DapxQ4FSXMl",
      "include_colab_link": true
    },
    "kernelspec": {
      "name": "python3",
      "display_name": "Python 3"
    },
    "language_info": {
      "name": "python"
    }
  },
  "cells": [
    {
      "cell_type": "markdown",
      "metadata": {
        "id": "view-in-github",
        "colab_type": "text"
      },
      "source": [
        "<a href=\"https://colab.research.google.com/github/silassamuel/DataTwitterEleitoral/blob/main/Etapa_3_EDA%2C_Storytelling.ipynb\" target=\"_parent\"><img src=\"https://colab.research.google.com/assets/colab-badge.svg\" alt=\"Open In Colab\"/></a>"
      ]
    },
    {
      "cell_type": "code",
      "execution_count": null,
      "metadata": {
        "id": "2UJy_Jj5lebN"
      },
      "outputs": [],
      "source": [
        ""
      ]
    }
  ]
}