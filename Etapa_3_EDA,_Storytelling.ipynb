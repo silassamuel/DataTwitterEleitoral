{
  "nbformat": 4,
  "nbformat_minor": 0,
  "metadata": {
    "colab": {
      "name": "Etapa 3 - EDA, Storytelling.ipynb",
      "provenance": [],
      "authorship_tag": "ABX9TyP/KPl8ieaI+YkaejlNfXpB",
      "include_colab_link": true
    },
    "kernelspec": {
      "name": "python3",
      "display_name": "Python 3"
    },
    "language_info": {
      "name": "python"
    }
  },
  "cells": [
    {
      "cell_type": "markdown",
      "metadata": {
        "id": "view-in-github",
        "colab_type": "text"
      },
      "source": [
        "<a href=\"https://colab.research.google.com/github/silassamuel/DataTwitterEleitoral/blob/main/Etapa_3_EDA%2C_Storytelling.ipynb\" target=\"_parent\"><img src=\"https://colab.research.google.com/assets/colab-badge.svg\" alt=\"Open In Colab\"/></a>"
      ]
    },
    {
      "cell_type": "markdown",
      "source": [
        "###Etapa 3 = EDA, Storytelling e Vizualização"
      ],
      "metadata": {
        "id": "TcvL9SEVb9Go"
      }
    },
    {
      "cell_type": "code",
      "source": [
        "import pandas as pd\n",
        "import re "
      ],
      "metadata": {
        "id": "Toa_pNGWcH1F"
      },
      "execution_count": null,
      "outputs": []
    },
    {
      "cell_type": "code",
      "source": [
        "dataframe_final_candidatos = pd.read_csv(\"data_frame_final_candidatos.csv\")"
      ],
      "metadata": {
        "id": "Z4cK7qVVcZ3P"
      },
      "execution_count": null,
      "outputs": []
    },
    {
      "cell_type": "code",
      "source": [
        "dataframe_final_candidatos.info()"
      ],
      "metadata": {
        "colab": {
          "base_uri": "https://localhost:8080/"
        },
        "id": "CgHTupJVcu0I",
        "outputId": "70d2eefe-4e64-492a-c2db-1278678cd53e"
      },
      "execution_count": null,
      "outputs": [
        {
          "output_type": "stream",
          "name": "stdout",
          "text": [
            "<class 'pandas.core.frame.DataFrame'>\n",
            "RangeIndex: 153 entries, 0 to 152\n",
            "Data columns (total 4 columns):\n",
            " #   Column     Non-Null Count  Dtype \n",
            "---  ------     --------------  ----- \n",
            " 0   Data_Hora  153 non-null    object\n",
            " 1   Idtweet    153 non-null    int64 \n",
            " 2   tweet      153 non-null    object\n",
            " 3   Candidato  153 non-null    object\n",
            "dtypes: int64(1), object(3)\n",
            "memory usage: 4.9+ KB\n"
          ]
        }
      ]
    },
    {
      "cell_type": "code",
      "source": [
        "dataframe_final_candidatos.isnull().sum()"
      ],
      "metadata": {
        "colab": {
          "base_uri": "https://localhost:8080/"
        },
        "id": "JimFhm4rdyAq",
        "outputId": "64a4fba1-d206-417f-f9c1-802d67ba0db8"
      },
      "execution_count": null,
      "outputs": [
        {
          "output_type": "execute_result",
          "data": {
            "text/plain": [
              "Data_Hora    0\n",
              "Idtweet      0\n",
              "tweet        0\n",
              "Candidato    0\n",
              "dtype: int64"
            ]
          },
          "metadata": {},
          "execution_count": 16
        }
      ]
    },
    {
      "cell_type": "code",
      "source": [
        "dataframe_final_candidatos[\"tweet_limpo\"] = dataframe_final_candidatos[\"tweet\"]"
      ],
      "metadata": {
        "id": "mQswB7dZeBCm"
      },
      "execution_count": null,
      "outputs": []
    },
    {
      "cell_type": "code",
      "source": [
        "dataframe_final_candidatos.head()"
      ],
      "metadata": {
        "colab": {
          "base_uri": "https://localhost:8080/",
          "height": 250
        },
        "id": "LMytOWjfecQa",
        "outputId": "2ca221e6-b031-452f-a9be-20eba73cc197"
      },
      "execution_count": null,
      "outputs": [
        {
          "output_type": "execute_result",
          "data": {
            "text/plain": [
              "                   Data_Hora              Idtweet  \\\n",
              "0  2022-07-31 13:12:41+00:00  1553730368204832769   \n",
              "1  2022-07-31 13:12:41+00:00  1553730367131205638   \n",
              "2  2022-07-31 13:12:40+00:00  1553730365130416128   \n",
              "3  2022-07-31 13:12:37+00:00  1553730353722019841   \n",
              "4  2022-07-31 13:12:37+00:00  1553730350572048389   \n",
              "\n",
              "                                               tweet Candidato  \\\n",
              "0          @DiegoBairrosJba Só quando o Lula morrer.      Lula   \n",
              "1  @PauloEduardoMED @COllyver1 @Luzamag @alexkta ...      Lula   \n",
              "2  @UOLNoticias @LulaOficial Vai vendo Brasil a d...      Lula   \n",
              "3  @pae031979 @ricardoalencar_ @pingodocafe Cara ...      Lula   \n",
              "4  @ptbrasil @LulaOficial Ladrão,  não tem eleito...      Lula   \n",
              "\n",
              "                                         tweet_limpo  \n",
              "0          @DiegoBairrosJba Só quando o Lula morrer.  \n",
              "1  @PauloEduardoMED @COllyver1 @Luzamag @alexkta ...  \n",
              "2  @UOLNoticias @LulaOficial Vai vendo Brasil a d...  \n",
              "3  @pae031979 @ricardoalencar_ @pingodocafe Cara ...  \n",
              "4  @ptbrasil @LulaOficial Ladrão,  não tem eleito...  "
            ],
            "text/html": [
              "\n",
              "  <div id=\"df-7541760d-70f4-4dd5-89bd-7c03ef7bcd47\">\n",
              "    <div class=\"colab-df-container\">\n",
              "      <div>\n",
              "<style scoped>\n",
              "    .dataframe tbody tr th:only-of-type {\n",
              "        vertical-align: middle;\n",
              "    }\n",
              "\n",
              "    .dataframe tbody tr th {\n",
              "        vertical-align: top;\n",
              "    }\n",
              "\n",
              "    .dataframe thead th {\n",
              "        text-align: right;\n",
              "    }\n",
              "</style>\n",
              "<table border=\"1\" class=\"dataframe\">\n",
              "  <thead>\n",
              "    <tr style=\"text-align: right;\">\n",
              "      <th></th>\n",
              "      <th>Data_Hora</th>\n",
              "      <th>Idtweet</th>\n",
              "      <th>tweet</th>\n",
              "      <th>Candidato</th>\n",
              "      <th>tweet_limpo</th>\n",
              "    </tr>\n",
              "  </thead>\n",
              "  <tbody>\n",
              "    <tr>\n",
              "      <th>0</th>\n",
              "      <td>2022-07-31 13:12:41+00:00</td>\n",
              "      <td>1553730368204832769</td>\n",
              "      <td>@DiegoBairrosJba Só quando o Lula morrer.</td>\n",
              "      <td>Lula</td>\n",
              "      <td>@DiegoBairrosJba Só quando o Lula morrer.</td>\n",
              "    </tr>\n",
              "    <tr>\n",
              "      <th>1</th>\n",
              "      <td>2022-07-31 13:12:41+00:00</td>\n",
              "      <td>1553730367131205638</td>\n",
              "      <td>@PauloEduardoMED @COllyver1 @Luzamag @alexkta ...</td>\n",
              "      <td>Lula</td>\n",
              "      <td>@PauloEduardoMED @COllyver1 @Luzamag @alexkta ...</td>\n",
              "    </tr>\n",
              "    <tr>\n",
              "      <th>2</th>\n",
              "      <td>2022-07-31 13:12:40+00:00</td>\n",
              "      <td>1553730365130416128</td>\n",
              "      <td>@UOLNoticias @LulaOficial Vai vendo Brasil a d...</td>\n",
              "      <td>Lula</td>\n",
              "      <td>@UOLNoticias @LulaOficial Vai vendo Brasil a d...</td>\n",
              "    </tr>\n",
              "    <tr>\n",
              "      <th>3</th>\n",
              "      <td>2022-07-31 13:12:37+00:00</td>\n",
              "      <td>1553730353722019841</td>\n",
              "      <td>@pae031979 @ricardoalencar_ @pingodocafe Cara ...</td>\n",
              "      <td>Lula</td>\n",
              "      <td>@pae031979 @ricardoalencar_ @pingodocafe Cara ...</td>\n",
              "    </tr>\n",
              "    <tr>\n",
              "      <th>4</th>\n",
              "      <td>2022-07-31 13:12:37+00:00</td>\n",
              "      <td>1553730350572048389</td>\n",
              "      <td>@ptbrasil @LulaOficial Ladrão,  não tem eleito...</td>\n",
              "      <td>Lula</td>\n",
              "      <td>@ptbrasil @LulaOficial Ladrão,  não tem eleito...</td>\n",
              "    </tr>\n",
              "  </tbody>\n",
              "</table>\n",
              "</div>\n",
              "      <button class=\"colab-df-convert\" onclick=\"convertToInteractive('df-7541760d-70f4-4dd5-89bd-7c03ef7bcd47')\"\n",
              "              title=\"Convert this dataframe to an interactive table.\"\n",
              "              style=\"display:none;\">\n",
              "        \n",
              "  <svg xmlns=\"http://www.w3.org/2000/svg\" height=\"24px\"viewBox=\"0 0 24 24\"\n",
              "       width=\"24px\">\n",
              "    <path d=\"M0 0h24v24H0V0z\" fill=\"none\"/>\n",
              "    <path d=\"M18.56 5.44l.94 2.06.94-2.06 2.06-.94-2.06-.94-.94-2.06-.94 2.06-2.06.94zm-11 1L8.5 8.5l.94-2.06 2.06-.94-2.06-.94L8.5 2.5l-.94 2.06-2.06.94zm10 10l.94 2.06.94-2.06 2.06-.94-2.06-.94-.94-2.06-.94 2.06-2.06.94z\"/><path d=\"M17.41 7.96l-1.37-1.37c-.4-.4-.92-.59-1.43-.59-.52 0-1.04.2-1.43.59L10.3 9.45l-7.72 7.72c-.78.78-.78 2.05 0 2.83L4 21.41c.39.39.9.59 1.41.59.51 0 1.02-.2 1.41-.59l7.78-7.78 2.81-2.81c.8-.78.8-2.07 0-2.86zM5.41 20L4 18.59l7.72-7.72 1.47 1.35L5.41 20z\"/>\n",
              "  </svg>\n",
              "      </button>\n",
              "      \n",
              "  <style>\n",
              "    .colab-df-container {\n",
              "      display:flex;\n",
              "      flex-wrap:wrap;\n",
              "      gap: 12px;\n",
              "    }\n",
              "\n",
              "    .colab-df-convert {\n",
              "      background-color: #E8F0FE;\n",
              "      border: none;\n",
              "      border-radius: 50%;\n",
              "      cursor: pointer;\n",
              "      display: none;\n",
              "      fill: #1967D2;\n",
              "      height: 32px;\n",
              "      padding: 0 0 0 0;\n",
              "      width: 32px;\n",
              "    }\n",
              "\n",
              "    .colab-df-convert:hover {\n",
              "      background-color: #E2EBFA;\n",
              "      box-shadow: 0px 1px 2px rgba(60, 64, 67, 0.3), 0px 1px 3px 1px rgba(60, 64, 67, 0.15);\n",
              "      fill: #174EA6;\n",
              "    }\n",
              "\n",
              "    [theme=dark] .colab-df-convert {\n",
              "      background-color: #3B4455;\n",
              "      fill: #D2E3FC;\n",
              "    }\n",
              "\n",
              "    [theme=dark] .colab-df-convert:hover {\n",
              "      background-color: #434B5C;\n",
              "      box-shadow: 0px 1px 3px 1px rgba(0, 0, 0, 0.15);\n",
              "      filter: drop-shadow(0px 1px 2px rgba(0, 0, 0, 0.3));\n",
              "      fill: #FFFFFF;\n",
              "    }\n",
              "  </style>\n",
              "\n",
              "      <script>\n",
              "        const buttonEl =\n",
              "          document.querySelector('#df-7541760d-70f4-4dd5-89bd-7c03ef7bcd47 button.colab-df-convert');\n",
              "        buttonEl.style.display =\n",
              "          google.colab.kernel.accessAllowed ? 'block' : 'none';\n",
              "\n",
              "        async function convertToInteractive(key) {\n",
              "          const element = document.querySelector('#df-7541760d-70f4-4dd5-89bd-7c03ef7bcd47');\n",
              "          const dataTable =\n",
              "            await google.colab.kernel.invokeFunction('convertToInteractive',\n",
              "                                                     [key], {});\n",
              "          if (!dataTable) return;\n",
              "\n",
              "          const docLinkHtml = 'Like what you see? Visit the ' +\n",
              "            '<a target=\"_blank\" href=https://colab.research.google.com/notebooks/data_table.ipynb>data table notebook</a>'\n",
              "            + ' to learn more about interactive tables.';\n",
              "          element.innerHTML = '';\n",
              "          dataTable['output_type'] = 'display_data';\n",
              "          await google.colab.output.renderOutput(dataTable, element);\n",
              "          const docLink = document.createElement('div');\n",
              "          docLink.innerHTML = docLinkHtml;\n",
              "          element.appendChild(docLink);\n",
              "        }\n",
              "      </script>\n",
              "    </div>\n",
              "  </div>\n",
              "  "
            ]
          },
          "metadata": {},
          "execution_count": 18
        }
      ]
    },
    {
      "cell_type": "code",
      "source": [
        "def limpeza_do_texto (tweet):\n",
        "  tweet = tweet.lower()\n",
        "  tweet = re.sub('\\n', '', tweet)\n",
        "  tweet = re.sub('@[^\\s]+', '', tweet)\n",
        "  tweet = re.sub('\\B#\\S+', '', tweet)\n",
        "  tweet = re.sub('https?://\\s+|www.\\.\\s+', '', tweet)\n",
        "  return tweet "
      ],
      "metadata": {
        "id": "XHunQif3eexk"
      },
      "execution_count": null,
      "outputs": []
    },
    {
      "cell_type": "code",
      "source": [
        "dataframe_final_candidatos[\"tweet_limpo\"] = dataframe_final_candidatos['tweet'].apply(lambda i: limpeza_do_texto (i))"
      ],
      "metadata": {
        "id": "y-9pnP3KiQ-U"
      },
      "execution_count": null,
      "outputs": []
    },
    {
      "cell_type": "code",
      "source": [
        "dataframe_final_candidatos.head()"
      ],
      "metadata": {
        "colab": {
          "base_uri": "https://localhost:8080/",
          "height": 206
        },
        "id": "XUoHe0EUjMI6",
        "outputId": "062cfaab-0019-4cf5-d6cd-1896c27a1540"
      },
      "execution_count": null,
      "outputs": [
        {
          "output_type": "execute_result",
          "data": {
            "text/plain": [
              "                   Data_Hora              Idtweet  \\\n",
              "0  2022-07-31 13:12:41+00:00  1553730368204832769   \n",
              "1  2022-07-31 13:12:41+00:00  1553730367131205638   \n",
              "2  2022-07-31 13:12:40+00:00  1553730365130416128   \n",
              "3  2022-07-31 13:12:37+00:00  1553730353722019841   \n",
              "4  2022-07-31 13:12:37+00:00  1553730350572048389   \n",
              "\n",
              "                                               tweet Candidato  \\\n",
              "0          @DiegoBairrosJba Só quando o Lula morrer.      Lula   \n",
              "1  @PauloEduardoMED @COllyver1 @Luzamag @alexkta ...      Lula   \n",
              "2  @UOLNoticias @LulaOficial Vai vendo Brasil a d...      Lula   \n",
              "3  @pae031979 @ricardoalencar_ @pingodocafe Cara ...      Lula   \n",
              "4  @ptbrasil @LulaOficial Ladrão,  não tem eleito...      Lula   \n",
              "\n",
              "                                         tweet_limpo  \n",
              "0                           só quando o lula morrer.  \n",
              "1       lula é cacheiro, bandido, analfabeto.. te...  \n",
              "2    vai vendo brasil a destruição, calheiros de ...  \n",
              "3     cara vc conseguiu colocar flamengo e lula n...  \n",
              "4    ladrão,  não tem eleitor.  .....  tem cúmplice.  "
            ],
            "text/html": [
              "\n",
              "  <div id=\"df-402b62f1-81bd-4b9b-925c-988f5b0e4680\">\n",
              "    <div class=\"colab-df-container\">\n",
              "      <div>\n",
              "<style scoped>\n",
              "    .dataframe tbody tr th:only-of-type {\n",
              "        vertical-align: middle;\n",
              "    }\n",
              "\n",
              "    .dataframe tbody tr th {\n",
              "        vertical-align: top;\n",
              "    }\n",
              "\n",
              "    .dataframe thead th {\n",
              "        text-align: right;\n",
              "    }\n",
              "</style>\n",
              "<table border=\"1\" class=\"dataframe\">\n",
              "  <thead>\n",
              "    <tr style=\"text-align: right;\">\n",
              "      <th></th>\n",
              "      <th>Data_Hora</th>\n",
              "      <th>Idtweet</th>\n",
              "      <th>tweet</th>\n",
              "      <th>Candidato</th>\n",
              "      <th>tweet_limpo</th>\n",
              "    </tr>\n",
              "  </thead>\n",
              "  <tbody>\n",
              "    <tr>\n",
              "      <th>0</th>\n",
              "      <td>2022-07-31 13:12:41+00:00</td>\n",
              "      <td>1553730368204832769</td>\n",
              "      <td>@DiegoBairrosJba Só quando o Lula morrer.</td>\n",
              "      <td>Lula</td>\n",
              "      <td>só quando o lula morrer.</td>\n",
              "    </tr>\n",
              "    <tr>\n",
              "      <th>1</th>\n",
              "      <td>2022-07-31 13:12:41+00:00</td>\n",
              "      <td>1553730367131205638</td>\n",
              "      <td>@PauloEduardoMED @COllyver1 @Luzamag @alexkta ...</td>\n",
              "      <td>Lula</td>\n",
              "      <td>lula é cacheiro, bandido, analfabeto.. te...</td>\n",
              "    </tr>\n",
              "    <tr>\n",
              "      <th>2</th>\n",
              "      <td>2022-07-31 13:12:40+00:00</td>\n",
              "      <td>1553730365130416128</td>\n",
              "      <td>@UOLNoticias @LulaOficial Vai vendo Brasil a d...</td>\n",
              "      <td>Lula</td>\n",
              "      <td>vai vendo brasil a destruição, calheiros de ...</td>\n",
              "    </tr>\n",
              "    <tr>\n",
              "      <th>3</th>\n",
              "      <td>2022-07-31 13:12:37+00:00</td>\n",
              "      <td>1553730353722019841</td>\n",
              "      <td>@pae031979 @ricardoalencar_ @pingodocafe Cara ...</td>\n",
              "      <td>Lula</td>\n",
              "      <td>cara vc conseguiu colocar flamengo e lula n...</td>\n",
              "    </tr>\n",
              "    <tr>\n",
              "      <th>4</th>\n",
              "      <td>2022-07-31 13:12:37+00:00</td>\n",
              "      <td>1553730350572048389</td>\n",
              "      <td>@ptbrasil @LulaOficial Ladrão,  não tem eleito...</td>\n",
              "      <td>Lula</td>\n",
              "      <td>ladrão,  não tem eleitor.  .....  tem cúmplice.</td>\n",
              "    </tr>\n",
              "  </tbody>\n",
              "</table>\n",
              "</div>\n",
              "      <button class=\"colab-df-convert\" onclick=\"convertToInteractive('df-402b62f1-81bd-4b9b-925c-988f5b0e4680')\"\n",
              "              title=\"Convert this dataframe to an interactive table.\"\n",
              "              style=\"display:none;\">\n",
              "        \n",
              "  <svg xmlns=\"http://www.w3.org/2000/svg\" height=\"24px\"viewBox=\"0 0 24 24\"\n",
              "       width=\"24px\">\n",
              "    <path d=\"M0 0h24v24H0V0z\" fill=\"none\"/>\n",
              "    <path d=\"M18.56 5.44l.94 2.06.94-2.06 2.06-.94-2.06-.94-.94-2.06-.94 2.06-2.06.94zm-11 1L8.5 8.5l.94-2.06 2.06-.94-2.06-.94L8.5 2.5l-.94 2.06-2.06.94zm10 10l.94 2.06.94-2.06 2.06-.94-2.06-.94-.94-2.06-.94 2.06-2.06.94z\"/><path d=\"M17.41 7.96l-1.37-1.37c-.4-.4-.92-.59-1.43-.59-.52 0-1.04.2-1.43.59L10.3 9.45l-7.72 7.72c-.78.78-.78 2.05 0 2.83L4 21.41c.39.39.9.59 1.41.59.51 0 1.02-.2 1.41-.59l7.78-7.78 2.81-2.81c.8-.78.8-2.07 0-2.86zM5.41 20L4 18.59l7.72-7.72 1.47 1.35L5.41 20z\"/>\n",
              "  </svg>\n",
              "      </button>\n",
              "      \n",
              "  <style>\n",
              "    .colab-df-container {\n",
              "      display:flex;\n",
              "      flex-wrap:wrap;\n",
              "      gap: 12px;\n",
              "    }\n",
              "\n",
              "    .colab-df-convert {\n",
              "      background-color: #E8F0FE;\n",
              "      border: none;\n",
              "      border-radius: 50%;\n",
              "      cursor: pointer;\n",
              "      display: none;\n",
              "      fill: #1967D2;\n",
              "      height: 32px;\n",
              "      padding: 0 0 0 0;\n",
              "      width: 32px;\n",
              "    }\n",
              "\n",
              "    .colab-df-convert:hover {\n",
              "      background-color: #E2EBFA;\n",
              "      box-shadow: 0px 1px 2px rgba(60, 64, 67, 0.3), 0px 1px 3px 1px rgba(60, 64, 67, 0.15);\n",
              "      fill: #174EA6;\n",
              "    }\n",
              "\n",
              "    [theme=dark] .colab-df-convert {\n",
              "      background-color: #3B4455;\n",
              "      fill: #D2E3FC;\n",
              "    }\n",
              "\n",
              "    [theme=dark] .colab-df-convert:hover {\n",
              "      background-color: #434B5C;\n",
              "      box-shadow: 0px 1px 3px 1px rgba(0, 0, 0, 0.15);\n",
              "      filter: drop-shadow(0px 1px 2px rgba(0, 0, 0, 0.3));\n",
              "      fill: #FFFFFF;\n",
              "    }\n",
              "  </style>\n",
              "\n",
              "      <script>\n",
              "        const buttonEl =\n",
              "          document.querySelector('#df-402b62f1-81bd-4b9b-925c-988f5b0e4680 button.colab-df-convert');\n",
              "        buttonEl.style.display =\n",
              "          google.colab.kernel.accessAllowed ? 'block' : 'none';\n",
              "\n",
              "        async function convertToInteractive(key) {\n",
              "          const element = document.querySelector('#df-402b62f1-81bd-4b9b-925c-988f5b0e4680');\n",
              "          const dataTable =\n",
              "            await google.colab.kernel.invokeFunction('convertToInteractive',\n",
              "                                                     [key], {});\n",
              "          if (!dataTable) return;\n",
              "\n",
              "          const docLinkHtml = 'Like what you see? Visit the ' +\n",
              "            '<a target=\"_blank\" href=https://colab.research.google.com/notebooks/data_table.ipynb>data table notebook</a>'\n",
              "            + ' to learn more about interactive tables.';\n",
              "          element.innerHTML = '';\n",
              "          dataTable['output_type'] = 'display_data';\n",
              "          await google.colab.output.renderOutput(dataTable, element);\n",
              "          const docLink = document.createElement('div');\n",
              "          docLink.innerHTML = docLinkHtml;\n",
              "          element.appendChild(docLink);\n",
              "        }\n",
              "      </script>\n",
              "    </div>\n",
              "  </div>\n",
              "  "
            ]
          },
          "metadata": {},
          "execution_count": 21
        }
      ]
    },
    {
      "cell_type": "code",
      "source": [
        "dataframe_final_candidatos.to_csv('dataframe_final_candidatos_pronto_para_sentimento.csv', sep =',', index = False )"
      ],
      "metadata": {
        "id": "KHjuwldDjQ87"
      },
      "execution_count": null,
      "outputs": []
    },
    {
      "cell_type": "code",
      "source": [
        ""
      ],
      "metadata": {
        "id": "OUAPCvSrkb11"
      },
      "execution_count": null,
      "outputs": []
    }
  ]
}